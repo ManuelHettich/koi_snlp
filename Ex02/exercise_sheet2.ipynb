{
 "cells": [
  {
   "cell_type": "markdown",
   "source": [
    "# Statistical Natural Language Processing (WS 20/21)\n",
    "## Exercise Sheet 2 - Manuel Hettich"
   ],
   "metadata": {
    "collapsed": false
   }
  },
  {
   "cell_type": "code",
   "execution_count": 69,
   "outputs": [],
   "source": [
    "import numpy as np\n",
    "import pandas as pd\n",
    "from collections import Counter\n",
    "\n",
    "# non-zero probability\n",
    "eps = 1e-40"
   ],
   "metadata": {
    "collapsed": false,
    "pycharm": {
     "name": "#%%\n"
    }
   }
  },
  {
   "cell_type": "code",
   "execution_count": 70,
   "metadata": {
    "collapsed": true
   },
   "outputs": [],
   "source": [
    "'''\n",
    "This function can be used for importing the corpus.\n",
    "Parameters: path_to_file: string; path to the file containing the corpus\n",
    "Returns: list of list; the second layer list contains tuples (token,label);\n",
    "'''\n",
    "def import_corpus(path_to_file):\n",
    "    sentences = []\n",
    "    sentence = []\n",
    "    f = open(path_to_file)\n",
    "\n",
    "    while True:\n",
    "        line = f.readline()\n",
    "        if not line: break\n",
    "\n",
    "        line = line.strip()\n",
    "        if len(line) == 0:\n",
    "            sentences.append(sentence)\n",
    "            sentence = []\n",
    "            continue\n",
    "\n",
    "        parts = line.split(' ')\n",
    "        sentence.append((parts[0], parts[-1]))\n",
    "\n",
    "    f.close()\n",
    "    return sentences"
   ]
  },
  {
   "cell_type": "markdown",
   "source": [
    "### Exercise 1"
   ],
   "metadata": {
    "collapsed": false
   }
  },
  {
   "cell_type": "code",
   "execution_count": 71,
   "outputs": [],
   "source": [
    "'''\n",
    "Implement the probability distribution of the initial states.\n",
    "Parameters:\tstate: string\n",
    "            internal_representation: data structure representing the parameterization of this probability distribution;\n",
    "                this data structure is returned by the function estimate_initial_state_probabilities\n",
    "Returns: float; initial probability of the given state\n",
    "'''\n",
    "def initial_state_probabilities(state, internal_representation):\n",
    "    return internal_representation.get(state, eps)"
   ],
   "metadata": {
    "collapsed": false,
    "pycharm": {
     "name": "#%%\n"
    }
   }
  },
  {
   "cell_type": "code",
   "execution_count": 72,
   "outputs": [],
   "source": [
    "'''\n",
    "Implement the matrix of transition probabilities.\n",
    "Parameters:\tfrom_state: string;\n",
    "            to_state: string;\n",
    "            internal_representation: data structure representing the parameterization of the matrix of transition probabilities;\n",
    "                this data structure is returned by the function estimate_transition_probabilities\n",
    "Returns: float; probability of transition from_state -> to_state\n",
    "'''\n",
    "def transition_probabilities(from_state, to_state, internal_representation):\n",
    "    return internal_representation.get(from_state, {}).get(to_state, eps)"
   ],
   "metadata": {
    "collapsed": false,
    "pycharm": {
     "name": "#%%\n"
    }
   }
  },
  {
   "cell_type": "code",
   "execution_count": 73,
   "outputs": [],
   "source": [
    "'''\n",
    "Implement the matrix of emmision probabilities.\n",
    "Parameters:\tstate: string;\n",
    "            emission_symbol: string;\n",
    "            internal_representation: data structure representing the parameterization of the matrix of emission probabilities;\n",
    "                this data structure is returned by the function estimate_emission_probabilities\n",
    "Returns: float; emission probability of the symbol emission_symbol if the current state is state\n",
    "'''\n",
    "def emission_probabilities(state, emission_symbol, internal_representation):\n",
    "    return internal_representation.get(state, {}).get(emission_symbol, eps)"
   ],
   "metadata": {
    "collapsed": false,
    "pycharm": {
     "name": "#%%\n"
    }
   }
  },
  {
   "cell_type": "code",
   "execution_count": 74,
   "outputs": [],
   "source": [
    "'''\n",
    "Implement a function for estimating the parameters of the probability distribution of the initial states.\n",
    "Parameters: corpus: list returned by the function import_corpus\n",
    "Returns: data structure containing the parameters of the probability distribution of the initial states;\n",
    "            use this data structure for the argument internal_representation of the function initial_state_probabilities\n",
    "'''\n",
    "def estimate_initial_state_probabilities(corpus):\n",
    "    initial_states = Counter()    # set of states S (labels, tag vocabulary)\n",
    "    p_initial_states = dict()\n",
    "\n",
    "    # Count each initial state for each sentence in the corpus\n",
    "    initial_states.update([sentence[0][1] for sentence in corpus])\n",
    "    total_initial_states = len(corpus)\n",
    "\n",
    "    # Calculate the initial probability for each state/tag in the corpus\n",
    "    for state in initial_states:\n",
    "        p_initial_states[state] = initial_states[state] / total_initial_states\n",
    "\n",
    "    return p_initial_states"
   ],
   "metadata": {
    "collapsed": false,
    "pycharm": {
     "name": "#%%\n"
    }
   }
  },
  {
   "cell_type": "code",
   "execution_count": 75,
   "outputs": [
    {
     "data": {
      "text/plain": "{'O': 0.6713460772600558,\n 'B-LOC': 0.07984866587017124,\n 'B-PER': 0.11210673038630029,\n 'B-ORG': 0.08562325766626842,\n 'B-MISC': 0.051075268817204304}"
     },
     "execution_count": 75,
     "metadata": {},
     "output_type": "execute_result"
    }
   ],
   "source": [
    "estimate_initial_state_probabilities(import_corpus(\"corpus_ner.txt\"))"
   ],
   "metadata": {
    "collapsed": false,
    "pycharm": {
     "name": "#%%\n"
    }
   }
  },
  {
   "cell_type": "code",
   "execution_count": 76,
   "outputs": [],
   "source": [
    "'''\n",
    "Implement a function for estimating the parameters of the matrix of transition probabilities\n",
    "Parameters: corpus: list returned by the function import_corpus\n",
    "Returns: data structure containing the parameters of the matrix of transition probabilities;\n",
    "            use this data structure for the argument internal_representation of the function transition_probabilities\n",
    "'''\n",
    "def estimate_transition_probabilities(corpus):\n",
    "    states = set()\n",
    "    num_state_transitions = dict()\n",
    "    p_state_transitions = dict()\n",
    "\n",
    "    for sentence in corpus:\n",
    "        for trans_end_idx in range(1, len(sentence)):\n",
    "            from_state = sentence[trans_end_idx - 1][1]\n",
    "            to_state = sentence[trans_end_idx][1]\n",
    "            # Create a new Counter for from_state if it was not seen before\n",
    "            if from_state not in num_state_transitions:\n",
    "                num_state_transitions[from_state] = Counter()\n",
    "            # Count the current transition defined by their states\n",
    "            num_state_transitions[from_state].update([to_state])\n",
    "            # Keep set of all transitions updated\n",
    "            states.add(from_state)\n",
    "\n",
    "    # Calculate the transition probabilities by normalising\n",
    "    for from_state in states:\n",
    "        if from_state not in p_state_transitions:\n",
    "                    p_state_transitions[from_state] = dict()\n",
    "        for to_state in states:\n",
    "            if num_state_transitions.get(from_state, {}).get(to_state, False):\n",
    "                total_to_states = np.sum([count for count in num_state_transitions[from_state].values()])\n",
    "                p_state_transitions[from_state][to_state] = num_state_transitions[from_state][to_state] / total_to_states\n",
    "\n",
    "    return p_state_transitions"
   ],
   "metadata": {
    "collapsed": false,
    "pycharm": {
     "name": "#%%\n"
    }
   }
  },
  {
   "cell_type": "code",
   "execution_count": 77,
   "outputs": [
    {
     "data": {
      "text/plain": "{'I-MISC': {'I-MISC': 0.25357710651828297,\n  'B-LOC': 0.001589825119236884,\n  'B-MISC': 0.00397456279809221,\n  'O': 0.7329093799682035,\n  'B-ORG': 0.0047694753577106515,\n  'B-PER': 0.003179650238473768},\n 'B-LOC': {'B-LOC': 0.0006681142475363287,\n  'B-MISC': 0.004342742608986137,\n  'O': 0.8287957240688157,\n  'B-ORG': 0.0025054284282612325,\n  'I-LOC': 0.16368799064640052},\n 'I-PER': {'I-PER': 0.07029478458049887, 'O': 0.9297052154195011},\n 'B-MISC': {'I-MISC': 0.21730103806228374,\n  'B-LOC': 0.0025374855824682814,\n  'B-MISC': 0.00784313725490196,\n  'O': 0.7427912341407151,\n  'B-ORG': 0.010380622837370242,\n  'B-PER': 0.01914648212226067},\n 'O': {'B-LOC': 0.028280890253261703,\n  'B-MISC': 0.02051858348865256,\n  'O': 0.9041881372656507,\n  'B-ORG': 0.021000986733910754,\n  'B-PER': 0.026011402258524285},\n 'B-ORG': {'B-LOC': 0.0008406893652795292,\n  'B-MISC': 0.0018915510718789407,\n  'O': 0.587431693989071,\n  'I-ORG': 0.40920554854981084,\n  'B-PER': 0.0006305170239596469},\n 'I-ORG': {'B-MISC': 0.000900360144057623,\n  'O': 0.5807322929171669,\n  'I-ORG': 0.41686674669867946,\n  'B-PER': 0.0015006002400960385},\n 'B-PER': {'B-LOC': 0.0006704659738518271,\n  'I-PER': 0.5497820985584981,\n  'O': 0.44954743546765},\n 'I-LOC': {'B-LOC': 0.0008992805755395684,\n  'B-MISC': 0.0017985611510791368,\n  'O': 0.875,\n  'B-ORG': 0.0008992805755395684,\n  'I-LOC': 0.12140287769784172}}"
     },
     "execution_count": 77,
     "metadata": {},
     "output_type": "execute_result"
    }
   ],
   "source": [
    "estimate_transition_probabilities(import_corpus(\"corpus_ner.txt\"))"
   ],
   "metadata": {
    "collapsed": false,
    "pycharm": {
     "name": "#%%\n"
    }
   }
  },
  {
   "cell_type": "code",
   "execution_count": 78,
   "outputs": [],
   "source": [
    "'''\n",
    "Implement a function for estimating the parameters of the matrix of emission probabilities\n",
    "Parameters: corpus: list returned by the function import_corpus\n",
    "Returns: data structure containing the parameters of the matrix of emission probabilities;\n",
    "            use this data structure for the argument internal_representation of the function emission_probabilities\n",
    "'''\n",
    "def estimate_emission_probabilities(corpus):\n",
    "    states = set()\n",
    "    emissions = Counter()\n",
    "    num_emissions = dict()\n",
    "    p_emission = dict()\n",
    "\n",
    "    # Count all tokens and tags in the corpus\n",
    "    for sentence in corpus:\n",
    "        for emission, state in sentence:\n",
    "            if state not in num_emissions:\n",
    "                num_emissions[state] = Counter()\n",
    "            num_emissions[state].update([emission])\n",
    "            emissions.update([emission])\n",
    "            states.add(state)\n",
    "\n",
    "    # Treat all emissions which only occur once as unknown\n",
    "    for emission, count in emissions.items():\n",
    "        if count <= 1:\n",
    "            # Remove emission and replace by <unknown>\n",
    "            for state in states:\n",
    "                if emission in num_emissions[state]:\n",
    "                    num_emissions[state].update([\"<unknown>\"])\n",
    "                    del(num_emissions[state][emission])\n",
    "\n",
    "    # Calculate probabilities for each emission by normalising\n",
    "    for state in states:\n",
    "        if state not in p_emission:\n",
    "            p_emission[state] = dict()\n",
    "        total_emissions_per_state = np.sum([count for count in num_emissions[state].values()])\n",
    "        for emission in num_emissions[state]:\n",
    "            p_emission[state][emission] = num_emissions[state][emission] / total_emissions_per_state\n",
    "\n",
    "    return p_emission"
   ],
   "metadata": {
    "collapsed": false,
    "pycharm": {
     "name": "#%%\n"
    }
   }
  },
  {
   "cell_type": "code",
   "execution_count": 79,
   "outputs": [
    {
     "data": {
      "text/plain": "0.03916260509004749"
     },
     "execution_count": 79,
     "metadata": {},
     "output_type": "execute_result"
    }
   ],
   "source": [
    "p_emissions = estimate_emission_probabilities(import_corpus(\"corpus_ner.txt\"))\n",
    "p_emissions['O']['<unknown>']"
   ],
   "metadata": {
    "collapsed": false,
    "pycharm": {
     "name": "#%%\n"
    }
   }
  },
  {
   "cell_type": "markdown",
   "source": [
    "### Exercise 2"
   ],
   "metadata": {
    "collapsed": false
   }
  },
  {
   "cell_type": "code",
   "execution_count": 112,
   "outputs": [],
   "source": [
    "''''\n",
    "Implement the Viterbi algorithm for computing the most likely state sequence given a sequence of observed symbols.\n",
    "Parameters: observed_symbols: list of strings; the sequence of observed symbols\n",
    "            initial_state_probabilities_parameters: data structure containing the parameters of the probability distribution of the initial states, returned by estimate_initial_state_probabilities\n",
    "            transition_probabilities_parameters: data structure containing the parameters of the matrix of transition probabilities, returned by estimate_transition_probabilities\n",
    "            emission_probabilities_parameters: data structure containing the parameters of the matrix of emission probabilities, returned by estimate_emission_probabilities\n",
    "Returns: list of strings; the most likely state sequence\n",
    "'''\n",
    "def most_likely_state_sequence(observed_symbols,\n",
    "                               initial_state_probabilities_parameters,\n",
    "                               transition_probabilities_parameters,\n",
    "                               emission_probabilities_parameters):\n",
    "\n",
    "    # Get all emissions and states of the corpus from the arguments\n",
    "    states = list(set(transition_probabilities_parameters))\n",
    "    emissions = [list(emission_probabilities_parameters[state].keys()) for state in states]\n",
    "    # Flatten list of lists of emissions\n",
    "    emissions = list(set(np.concatenate(emissions).flat))\n",
    "\n",
    "    # Initialize necessary variables for the Viterbi algorithm\n",
    "    psi = np.full(shape=(len(observed_symbols), len(states)), fill_value=0.0)\n",
    "    delta = np.full(shape=(len(observed_symbols), len(states)), fill_value=0.0)\n",
    "\n",
    "    # Replace symbols in observed_symbols by <unknown> if they appeared at most once in the corpus\n",
    "    processed_observations = list()\n",
    "    for symbol in observed_symbols:\n",
    "        if symbol in emissions:\n",
    "            processed_observations.append(symbol)\n",
    "        else:\n",
    "            processed_observations.append(\"<unknown>\")\n",
    "\n",
    "    # Calculate the first delta\n",
    "    first_symbol = processed_observations[0]\n",
    "    delta[0] = np.array([initial_state_probabilities_parameters.get(state, eps)\n",
    "                         * emission_probabilities_parameters[state].get(first_symbol, eps) for state in states])\n",
    "\n",
    "    # Induction steps\n",
    "    for t in range(0, len(processed_observations) - 1):\n",
    "        for state_j in states:\n",
    "            current_delta = np.zeros(shape=(len(states)))\n",
    "            for state_i in states:\n",
    "                current_delta = delta[t][states.index(state_i)] \\\n",
    "                                + np.log(transition_probabilities_parameters[state_i].get(state_j, eps)) \\\n",
    "                                + np.log(emission_probabilities_parameters[state_j].get(processed_observations[t], eps))\n",
    "\n",
    "            delta[t + 1, states.index(state_j)] = np.max(current_delta)\n",
    "            psi[t + 1, states.index(state_j)] = np.argmax(current_delta)\n",
    "\n",
    "    # Backtracking starting from the end\n",
    "    predicted_states = list()\n",
    "    for t in range(len(processed_observations) - 1, -1, -1):\n",
    "        if t == len(processed_observations) - 1:\n",
    "            X_t = np.argmax(delta[-1])\n",
    "        else:\n",
    "            X_t = np.argmax(delta[t + 1])\n",
    "        predicted_states.append(states[X_t])\n",
    "\n",
    "    # Return predicted states in reversed order\n",
    "    return predicted_states[::-1]\n"
   ],
   "metadata": {
    "collapsed": false,
    "pycharm": {
     "name": "#%%\n"
    }
   }
  },
  {
   "cell_type": "code",
   "execution_count": 114,
   "outputs": [
    {
     "name": "stdout",
     "output_type": "stream",
     "text": [
      "True state sequence: ['B-LOC', 'O', 'O', 'O', 'O', 'B-LOC', 'O', 'O', 'O', 'O', 'O', 'O', 'O', 'O', 'O', 'O', 'O', 'B-MISC', 'I-MISC', 'O', 'O']\n",
      "Predicted state sequence: ['B-LOC', 'O', 'O', 'O', 'O', 'B-LOC', 'O', 'O', 'O', 'O', 'O', 'O', 'O', 'O', 'O', 'O', 'O', 'B-MISC', 'O', 'O', 'O']\n"
     ]
    }
   ],
   "source": [
    "test_sentence = import_corpus(\"corpus_ner.txt\")[100]\n",
    "test_sentence_states = [state for _, state in test_sentence]\n",
    "test_sentence_emissions = [emission for emission, _ in test_sentence]\n",
    "\n",
    "pred_states = most_likely_state_sequence(test_sentence_emissions,\n",
    "                           estimate_initial_state_probabilities(import_corpus(\"corpus_ner.txt\")),\n",
    "                           estimate_transition_probabilities(import_corpus(\"corpus_ner.txt\")),\n",
    "                           estimate_emission_probabilities(import_corpus(\"corpus_ner.txt\")))\n",
    "\n",
    "print(\"True state sequence:\", test_sentence_states)\n",
    "print(\"Predicted state sequence:\", pred_states)"
   ],
   "metadata": {
    "collapsed": false,
    "pycharm": {
     "name": "#%%\n"
    }
   }
  },
  {
   "cell_type": "code",
   "execution_count": 81,
   "outputs": [],
   "source": [],
   "metadata": {
    "collapsed": false,
    "pycharm": {
     "name": "#%%\n"
    }
   }
  }
 ],
 "metadata": {
  "kernelspec": {
   "name": "python3",
   "language": "python",
   "display_name": "Python 3"
  },
  "language_info": {
   "codemirror_mode": {
    "name": "ipython",
    "version": 2
   },
   "file_extension": ".py",
   "mimetype": "text/x-python",
   "name": "python",
   "nbconvert_exporter": "python",
   "pygments_lexer": "ipython2",
   "version": "2.7.6"
  }
 },
 "nbformat": 4,
 "nbformat_minor": 0
}